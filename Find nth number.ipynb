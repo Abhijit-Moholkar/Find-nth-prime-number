{
 "cells": [
  {
   "cell_type": "code",
   "execution_count": 2,
   "id": "4bcb3a04",
   "metadata": {},
   "outputs": [
    {
     "name": "stdout",
     "output_type": "stream",
     "text": [
      "Enter number1000\n",
      "7919\n"
     ]
    }
   ],
   "source": [
    "number = int(input('Enter number'))\n",
    "c = 0\n",
    "p = 0\n",
    "l=[]\n",
    "while p!=number+1:\n",
    "    c += 1\n",
    "    for i in range(2,c):\n",
    "        if c%i == 0:\n",
    "            break\n",
    "    else:\n",
    "        l.append(c)\n",
    "        p+=1\n",
    "print(max(l))"
   ]
  },
  {
   "cell_type": "code",
   "execution_count": null,
   "id": "4af00ec9",
   "metadata": {},
   "outputs": [],
   "source": []
  }
 ],
 "metadata": {
  "kernelspec": {
   "display_name": "Python 3",
   "language": "python",
   "name": "python3"
  },
  "language_info": {
   "codemirror_mode": {
    "name": "ipython",
    "version": 3
   },
   "file_extension": ".py",
   "mimetype": "text/x-python",
   "name": "python",
   "nbconvert_exporter": "python",
   "pygments_lexer": "ipython3",
   "version": "3.8.8"
  }
 },
 "nbformat": 4,
 "nbformat_minor": 5
}
